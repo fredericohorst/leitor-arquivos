{
 "metadata": {
  "language_info": {
   "codemirror_mode": {
    "name": "ipython",
    "version": 3
   },
   "file_extension": ".py",
   "mimetype": "text/x-python",
   "name": "python",
   "nbconvert_exporter": "python",
   "pygments_lexer": "ipython3",
   "version": "3.9.1"
  },
  "orig_nbformat": 2,
  "kernelspec": {
   "name": "python3",
   "display_name": "Python 3",
   "language": "python"
  }
 },
 "nbformat": 4,
 "nbformat_minor": 2,
 "cells": [
  {
   "source": [
    "# Modos de como usar o Leitor de Arquivos\n"
   ],
   "cell_type": "markdown",
   "metadata": {}
  },
  {
   "source": [
    "## Como usar o downloader com apenas um link:\n",
    "Vamos usar como exemplo os dados do [COVID do RS](https://ti.saude.rs.gov.br/covid19/). "
   ],
   "cell_type": "markdown",
   "metadata": {}
  },
  {
   "cell_type": "code",
   "execution_count": 1,
   "metadata": {},
   "outputs": [
    {
     "output_type": "error",
     "ename": "NameError",
     "evalue": "name 'utils' is not defined",
     "traceback": [
      "\u001b[0;31m---------------------------------------------------------------------------\u001b[0m",
      "\u001b[0;31mNameError\u001b[0m                                 Traceback (most recent call last)",
      "\u001b[0;32m<ipython-input-1-0a848d6f717b>\u001b[0m in \u001b[0;36m<module>\u001b[0;34m\u001b[0m\n\u001b[1;32m      6\u001b[0m \u001b[0;34m\u001b[0m\u001b[0m\n\u001b[1;32m      7\u001b[0m \u001b[0;31m# download dos arquivos:\u001b[0m\u001b[0;34m\u001b[0m\u001b[0;34m\u001b[0m\u001b[0;34m\u001b[0m\u001b[0m\n\u001b[0;32m----> 8\u001b[0;31m \u001b[0mutils\u001b[0m\u001b[0;34m.\u001b[0m\u001b[0mdownloader\u001b[0m\u001b[0;34m(\u001b[0m\u001b[0mdownload_link\u001b[0m\u001b[0;34m,\u001b[0m\u001b[0mdestino\u001b[0m\u001b[0;34m,\u001b[0m\u001b[0mlista\u001b[0m\u001b[0;34m=\u001b[0m\u001b[0;32mFalse\u001b[0m\u001b[0;34m)\u001b[0m\u001b[0;34m\u001b[0m\u001b[0;34m\u001b[0m\u001b[0m\n\u001b[0m",
      "\u001b[0;31mNameError\u001b[0m: name 'utils' is not defined"
     ]
    }
   ],
   "source": [
    "import os\n",
    "import utils\n",
    "\n",
    "# declarando variáveis:\n",
    "path = os.getcwd() # identifica o diretório em que está sendo executado\n",
    "destino = path + '/arquivos/'\n",
    "download_link = 'https://ti.saude.rs.gov.br/covid19/download'\n",
    "arquivos_covid = destino\n",
    "\n",
    "# download dos arquivos:\n",
    "utils.downloader(download_link,destino,lista=False)"
   ]
  },
  {
   "source": [
    "## Como usar o downloader com um arquivo de links\n",
    "Vamos usar como exemplo os dados de estabelecimentos dos [dados abertos de empresas](https://www.gov.br/receitafederal/pt-br/assuntos/orientacao-tributaria/cadastros/consultas/dados-publicos-cnpj). Para isso, vamos usar o arquivo `estabelecimentoss_rf_urls.txt` que contem uma lista de URLs para os arquivos de estabelecimentos."
   ],
   "cell_type": "markdown",
   "metadata": {}
  },
  {
   "cell_type": "code",
   "execution_count": 2,
   "metadata": {},
   "outputs": [
    {
     "output_type": "stream",
     "name": "stdout",
     "text": [
      "/Users/frederico/leitor-arquivos/estabelecimentos_rf_urls.txt\n"
     ]
    }
   ],
   "source": [
    "import os\n",
    "import utils\n",
    "\n",
    "# fazendo o download dos arquivos:\n",
    "utils.downloader(download_link='/estabelecimentos_rf_urls.txt',destino='/arquivos/', lista=True)"
   ]
  },
  {
   "cell_type": "code",
   "execution_count": 2,
   "metadata": {},
   "outputs": [
    {
     "output_type": "execute_result",
     "data": {
      "text/plain": [
       "'arquivos descompactados com sucesso'"
      ]
     },
     "metadata": {},
     "execution_count": 2
    }
   ],
   "source": [
    "import os\n",
    "import utils\n",
    "\n",
    "# descompactando os arquivos:\n",
    "utils.descompactando(caminho_do_arquivo='/arquivos/', tipo_arquivo='zip', destino=os.getcwd()+'/arquivos/unzipped/')"
   ]
  },
  {
   "source": [
    "## Como usar o leitor dos dados em spark\n",
    "\n",
    "Para fazer o processamento de dados, pode-se usar a linguagem [SQL para Spark](https://spark.apache.org/docs/latest/sql-ref-syntax.html). As consultas devem ser salvas com o formato `nome.sql` na pasta de consultas.  \n",
    "Vamos executar a `consulta_exemplo_1.sql` na base de dados do covid (schema já definido) e de estabelecimentos da RF (schema precisa ser definido). "
   ],
   "cell_type": "markdown",
   "metadata": {}
  },
  {
   "cell_type": "code",
   "execution_count": 2,
   "metadata": {},
   "outputs": [
    {
     "output_type": "stream",
     "name": "stdout",
     "text": [
      "serao lidos 10 arquivos\n",
      "consulta_exemplo_1.sql\n",
      "consulta_exemplo_3.sql\n"
     ]
    },
    {
     "output_type": "error",
     "ename": "AnalysisException",
     "evalue": "cannot resolve '`cnpj_basico`' given input columns: [estabelecimentos.0001, estabelecimentos.01, estabelecimentos.07, estabelecimentos.08, estabelecimentos.1, estabelecimentos.1096100,1093702, estabelecimentos.20190513, estabelecimentos.20190722, estabelecimentos.288, estabelecimentos.33, estabelecimentos.33600823, estabelecimentos.39790000, estabelecimentos.4011, estabelecimentos.5620104, estabelecimentos.88333829, estabelecimentos.CENTRO, estabelecimentos.EMILIO VASCONCELOS, estabelecimentos.MG, estabelecimentos.RUA, estabelecimentos.SALGADOS DA ERIDIANA, estabelecimentos._c16, estabelecimentos._c23, estabelecimentos._c24, estabelecimentos._c25, estabelecimentos._c26, estabelecimentos._c28, estabelecimentos._c29, estabelecimentos._c8, estabelecimentos._c9, estabelecimentos.adelano.deptofiscal@gmail.com]; line 13 pos 9;\n'Sort [unresolvedordinal(2) DESC NULLS LAST], true\n+- 'Aggregate ['cnpj_basico], ['cnpj_basico, count(1) AS estabelecimentos#220L]\n   +- SubqueryAlias estabelecimentos\n      +- Relation[33600823#100,0001#101,07#102,1#103,SALGADOS DA ERIDIANA#104,08#105,20190722#106,01#107,_c8#108,_c9#109,20190513#110,5620104#111,1096100,1093702#112,RUA#113,EMILIO VASCONCELOS#114,288#115,_c16#116,CENTRO#117,39790000#118,MG#119,4011#120,33#121,88333829#122,_c23#123,... 6 more fields] csv\n",
     "traceback": [
      "\u001b[0;31m---------------------------------------------------------------------------\u001b[0m",
      "\u001b[0;31mAnalysisException\u001b[0m                         Traceback (most recent call last)",
      "\u001b[0;32m<ipython-input-2-c6a209433e64>\u001b[0m in \u001b[0;36m<module>\u001b[0;34m\u001b[0m\n\u001b[1;32m      5\u001b[0m \u001b[0;34m\u001b[0m\u001b[0m\n\u001b[1;32m      6\u001b[0m \u001b[0;31m# processando os arquivos\u001b[0m\u001b[0;34m\u001b[0m\u001b[0;34m\u001b[0m\u001b[0;34m\u001b[0m\u001b[0m\n\u001b[0;32m----> 7\u001b[0;31m leitor.processamento_sql_spark(\n\u001b[0m\u001b[1;32m      8\u001b[0m     \u001b[0mpasta_de_consultas\u001b[0m\u001b[0;34m=\u001b[0m\u001b[0mpath\u001b[0m\u001b[0;34m+\u001b[0m\u001b[0;34m'/consultas/'\u001b[0m\u001b[0;34m,\u001b[0m\u001b[0;34m\u001b[0m\u001b[0;34m\u001b[0m\u001b[0m\n\u001b[1;32m      9\u001b[0m     \u001b[0mdestino\u001b[0m\u001b[0;34m=\u001b[0m\u001b[0mpath\u001b[0m\u001b[0;34m+\u001b[0m\u001b[0;34m'/arquivos_processados/'\u001b[0m\u001b[0;34m,\u001b[0m\u001b[0;34m\u001b[0m\u001b[0;34m\u001b[0m\u001b[0m\n",
      "\u001b[0;32m~/leitor-arquivos/leitor.py\u001b[0m in \u001b[0;36mprocessamento_sql_spark\u001b[0;34m(pasta_de_consultas, destino, diretorio, separador, sql_alias)\u001b[0m\n\u001b[1;32m     41\u001b[0m         \u001b[0mf\u001b[0m\u001b[0;34m.\u001b[0m\u001b[0mclose\u001b[0m\u001b[0;34m(\u001b[0m\u001b[0;34m)\u001b[0m\u001b[0;34m\u001b[0m\u001b[0;34m\u001b[0m\u001b[0m\n\u001b[1;32m     42\u001b[0m         \u001b[0mfile\u001b[0m \u001b[0;34m=\u001b[0m \u001b[0mdestino\u001b[0m\u001b[0;34m+\u001b[0m\u001b[0mconsulta\u001b[0m\u001b[0;34m.\u001b[0m\u001b[0mstrip\u001b[0m\u001b[0;34m(\u001b[0m\u001b[0;34m'.sql'\u001b[0m\u001b[0;34m)\u001b[0m\u001b[0;34m+\u001b[0m\u001b[0;34m'.csv'\u001b[0m\u001b[0;34m\u001b[0m\u001b[0;34m\u001b[0m\u001b[0m\n\u001b[0;32m---> 43\u001b[0;31m         \u001b[0mresult\u001b[0m \u001b[0;34m=\u001b[0m \u001b[0msqlContext\u001b[0m\u001b[0;34m.\u001b[0m\u001b[0msql\u001b[0m\u001b[0;34m(\u001b[0m\u001b[0mquery\u001b[0m\u001b[0;34m)\u001b[0m\u001b[0;34m\u001b[0m\u001b[0;34m\u001b[0m\u001b[0m\n\u001b[0m\u001b[1;32m     44\u001b[0m         \u001b[0mdf\u001b[0m \u001b[0;34m=\u001b[0m \u001b[0mresult\u001b[0m\u001b[0;34m.\u001b[0m\u001b[0mtoPandas\u001b[0m\u001b[0;34m(\u001b[0m\u001b[0;34m)\u001b[0m\u001b[0;34m\u001b[0m\u001b[0;34m\u001b[0m\u001b[0m\n\u001b[1;32m     45\u001b[0m         \u001b[0mdf\u001b[0m\u001b[0;34m.\u001b[0m\u001b[0mto_csv\u001b[0m\u001b[0;34m(\u001b[0m\u001b[0mfile\u001b[0m\u001b[0;34m)\u001b[0m\u001b[0;34m\u001b[0m\u001b[0;34m\u001b[0m\u001b[0m\n",
      "\u001b[0;32m/usr/local/lib/python3.9/site-packages/pyspark/sql/context.py\u001b[0m in \u001b[0;36msql\u001b[0;34m(self, sqlQuery)\u001b[0m\n\u001b[1;32m    431\u001b[0m         \u001b[0;34m[\u001b[0m\u001b[0mRow\u001b[0m\u001b[0;34m(\u001b[0m\u001b[0mf1\u001b[0m\u001b[0;34m=\u001b[0m\u001b[0;36m1\u001b[0m\u001b[0;34m,\u001b[0m \u001b[0mf2\u001b[0m\u001b[0;34m=\u001b[0m\u001b[0;34m'row1'\u001b[0m\u001b[0;34m)\u001b[0m\u001b[0;34m,\u001b[0m \u001b[0mRow\u001b[0m\u001b[0;34m(\u001b[0m\u001b[0mf1\u001b[0m\u001b[0;34m=\u001b[0m\u001b[0;36m2\u001b[0m\u001b[0;34m,\u001b[0m \u001b[0mf2\u001b[0m\u001b[0;34m=\u001b[0m\u001b[0;34m'row2'\u001b[0m\u001b[0;34m)\u001b[0m\u001b[0;34m,\u001b[0m \u001b[0mRow\u001b[0m\u001b[0;34m(\u001b[0m\u001b[0mf1\u001b[0m\u001b[0;34m=\u001b[0m\u001b[0;36m3\u001b[0m\u001b[0;34m,\u001b[0m \u001b[0mf2\u001b[0m\u001b[0;34m=\u001b[0m\u001b[0;34m'row3'\u001b[0m\u001b[0;34m)\u001b[0m\u001b[0;34m]\u001b[0m\u001b[0;34m\u001b[0m\u001b[0;34m\u001b[0m\u001b[0m\n\u001b[1;32m    432\u001b[0m         \"\"\"\n\u001b[0;32m--> 433\u001b[0;31m         \u001b[0;32mreturn\u001b[0m \u001b[0mself\u001b[0m\u001b[0;34m.\u001b[0m\u001b[0msparkSession\u001b[0m\u001b[0;34m.\u001b[0m\u001b[0msql\u001b[0m\u001b[0;34m(\u001b[0m\u001b[0msqlQuery\u001b[0m\u001b[0;34m)\u001b[0m\u001b[0;34m\u001b[0m\u001b[0;34m\u001b[0m\u001b[0m\n\u001b[0m\u001b[1;32m    434\u001b[0m \u001b[0;34m\u001b[0m\u001b[0m\n\u001b[1;32m    435\u001b[0m     \u001b[0;32mdef\u001b[0m \u001b[0mtable\u001b[0m\u001b[0;34m(\u001b[0m\u001b[0mself\u001b[0m\u001b[0;34m,\u001b[0m \u001b[0mtableName\u001b[0m\u001b[0;34m)\u001b[0m\u001b[0;34m:\u001b[0m\u001b[0;34m\u001b[0m\u001b[0;34m\u001b[0m\u001b[0m\n",
      "\u001b[0;32m/usr/local/lib/python3.9/site-packages/pyspark/sql/session.py\u001b[0m in \u001b[0;36msql\u001b[0;34m(self, sqlQuery)\u001b[0m\n\u001b[1;32m    721\u001b[0m         \u001b[0;34m[\u001b[0m\u001b[0mRow\u001b[0m\u001b[0;34m(\u001b[0m\u001b[0mf1\u001b[0m\u001b[0;34m=\u001b[0m\u001b[0;36m1\u001b[0m\u001b[0;34m,\u001b[0m \u001b[0mf2\u001b[0m\u001b[0;34m=\u001b[0m\u001b[0;34m'row1'\u001b[0m\u001b[0;34m)\u001b[0m\u001b[0;34m,\u001b[0m \u001b[0mRow\u001b[0m\u001b[0;34m(\u001b[0m\u001b[0mf1\u001b[0m\u001b[0;34m=\u001b[0m\u001b[0;36m2\u001b[0m\u001b[0;34m,\u001b[0m \u001b[0mf2\u001b[0m\u001b[0;34m=\u001b[0m\u001b[0;34m'row2'\u001b[0m\u001b[0;34m)\u001b[0m\u001b[0;34m,\u001b[0m \u001b[0mRow\u001b[0m\u001b[0;34m(\u001b[0m\u001b[0mf1\u001b[0m\u001b[0;34m=\u001b[0m\u001b[0;36m3\u001b[0m\u001b[0;34m,\u001b[0m \u001b[0mf2\u001b[0m\u001b[0;34m=\u001b[0m\u001b[0;34m'row3'\u001b[0m\u001b[0;34m)\u001b[0m\u001b[0;34m]\u001b[0m\u001b[0;34m\u001b[0m\u001b[0;34m\u001b[0m\u001b[0m\n\u001b[1;32m    722\u001b[0m         \"\"\"\n\u001b[0;32m--> 723\u001b[0;31m         \u001b[0;32mreturn\u001b[0m \u001b[0mDataFrame\u001b[0m\u001b[0;34m(\u001b[0m\u001b[0mself\u001b[0m\u001b[0;34m.\u001b[0m\u001b[0m_jsparkSession\u001b[0m\u001b[0;34m.\u001b[0m\u001b[0msql\u001b[0m\u001b[0;34m(\u001b[0m\u001b[0msqlQuery\u001b[0m\u001b[0;34m)\u001b[0m\u001b[0;34m,\u001b[0m \u001b[0mself\u001b[0m\u001b[0;34m.\u001b[0m\u001b[0m_wrapped\u001b[0m\u001b[0;34m)\u001b[0m\u001b[0;34m\u001b[0m\u001b[0;34m\u001b[0m\u001b[0m\n\u001b[0m\u001b[1;32m    724\u001b[0m \u001b[0;34m\u001b[0m\u001b[0m\n\u001b[1;32m    725\u001b[0m     \u001b[0;32mdef\u001b[0m \u001b[0mtable\u001b[0m\u001b[0;34m(\u001b[0m\u001b[0mself\u001b[0m\u001b[0;34m,\u001b[0m \u001b[0mtableName\u001b[0m\u001b[0;34m)\u001b[0m\u001b[0;34m:\u001b[0m\u001b[0;34m\u001b[0m\u001b[0;34m\u001b[0m\u001b[0m\n",
      "\u001b[0;32m/usr/local/lib/python3.9/site-packages/py4j/java_gateway.py\u001b[0m in \u001b[0;36m__call__\u001b[0;34m(self, *args)\u001b[0m\n\u001b[1;32m   1302\u001b[0m \u001b[0;34m\u001b[0m\u001b[0m\n\u001b[1;32m   1303\u001b[0m         \u001b[0manswer\u001b[0m \u001b[0;34m=\u001b[0m \u001b[0mself\u001b[0m\u001b[0;34m.\u001b[0m\u001b[0mgateway_client\u001b[0m\u001b[0;34m.\u001b[0m\u001b[0msend_command\u001b[0m\u001b[0;34m(\u001b[0m\u001b[0mcommand\u001b[0m\u001b[0;34m)\u001b[0m\u001b[0;34m\u001b[0m\u001b[0;34m\u001b[0m\u001b[0m\n\u001b[0;32m-> 1304\u001b[0;31m         return_value = get_return_value(\n\u001b[0m\u001b[1;32m   1305\u001b[0m             answer, self.gateway_client, self.target_id, self.name)\n\u001b[1;32m   1306\u001b[0m \u001b[0;34m\u001b[0m\u001b[0m\n",
      "\u001b[0;32m/usr/local/lib/python3.9/site-packages/pyspark/sql/utils.py\u001b[0m in \u001b[0;36mdeco\u001b[0;34m(*a, **kw)\u001b[0m\n\u001b[1;32m    115\u001b[0m                 \u001b[0;31m# Hide where the exception came from that shows a non-Pythonic\u001b[0m\u001b[0;34m\u001b[0m\u001b[0;34m\u001b[0m\u001b[0;34m\u001b[0m\u001b[0m\n\u001b[1;32m    116\u001b[0m                 \u001b[0;31m# JVM exception message.\u001b[0m\u001b[0;34m\u001b[0m\u001b[0;34m\u001b[0m\u001b[0;34m\u001b[0m\u001b[0m\n\u001b[0;32m--> 117\u001b[0;31m                 \u001b[0;32mraise\u001b[0m \u001b[0mconverted\u001b[0m \u001b[0;32mfrom\u001b[0m \u001b[0;32mNone\u001b[0m\u001b[0;34m\u001b[0m\u001b[0;34m\u001b[0m\u001b[0m\n\u001b[0m\u001b[1;32m    118\u001b[0m             \u001b[0;32melse\u001b[0m\u001b[0;34m:\u001b[0m\u001b[0;34m\u001b[0m\u001b[0;34m\u001b[0m\u001b[0m\n\u001b[1;32m    119\u001b[0m                 \u001b[0;32mraise\u001b[0m\u001b[0;34m\u001b[0m\u001b[0;34m\u001b[0m\u001b[0m\n",
      "\u001b[0;31mAnalysisException\u001b[0m: cannot resolve '`cnpj_basico`' given input columns: [estabelecimentos.0001, estabelecimentos.01, estabelecimentos.07, estabelecimentos.08, estabelecimentos.1, estabelecimentos.1096100,1093702, estabelecimentos.20190513, estabelecimentos.20190722, estabelecimentos.288, estabelecimentos.33, estabelecimentos.33600823, estabelecimentos.39790000, estabelecimentos.4011, estabelecimentos.5620104, estabelecimentos.88333829, estabelecimentos.CENTRO, estabelecimentos.EMILIO VASCONCELOS, estabelecimentos.MG, estabelecimentos.RUA, estabelecimentos.SALGADOS DA ERIDIANA, estabelecimentos._c16, estabelecimentos._c23, estabelecimentos._c24, estabelecimentos._c25, estabelecimentos._c26, estabelecimentos._c28, estabelecimentos._c29, estabelecimentos._c8, estabelecimentos._c9, estabelecimentos.adelano.deptofiscal@gmail.com]; line 13 pos 9;\n'Sort [unresolvedordinal(2) DESC NULLS LAST], true\n+- 'Aggregate ['cnpj_basico], ['cnpj_basico, count(1) AS estabelecimentos#220L]\n   +- SubqueryAlias estabelecimentos\n      +- Relation[33600823#100,0001#101,07#102,1#103,SALGADOS DA ERIDIANA#104,08#105,20190722#106,01#107,_c8#108,_c9#109,20190513#110,5620104#111,1096100,1093702#112,RUA#113,EMILIO VASCONCELOS#114,288#115,_c16#116,CENTRO#117,39790000#118,MG#119,4011#120,33#121,88333829#122,_c23#123,... 6 more fields] csv\n"
     ]
    }
   ],
   "source": [
    "import os\n",
    "import leitor\n",
    "\n",
    "path = os.getcwd() # identifica o diretório em que está sendo executado\n",
    "\n",
    "# processando os arquivos\n",
    "leitor.processamento_sql_spark(\n",
    "    pasta_de_consultas=path+'/consultas/', \n",
    "    destino=path+'/arquivos_processados/', \n",
    "    diretorio=path+'/arquivos/unzipped/',\n",
    "    separador=';',\n",
    "    sql_alias='estabelecimentos')"
   ]
  },
  {
   "source": [
    "Executando uma consulta em uma fonte de dados na qual é necessário determinar o schema:"
   ],
   "cell_type": "markdown",
   "metadata": {}
  },
  {
   "cell_type": "code",
   "execution_count": 2,
   "metadata": {},
   "outputs": [
    {
     "output_type": "stream",
     "name": "stdout",
     "text": [
      "serao lidos 10 arquivos\nconsulta_exemplo_1.sql\n"
     ]
    },
    {
     "output_type": "execute_result",
     "data": {
      "text/plain": [
       "'foram processados 1'"
      ]
     },
     "metadata": {},
     "execution_count": 2
    }
   ],
   "source": [
    "import os\n",
    "import leitor\n",
    "from pyspark.sql.types import StringType, StructField, StructType # para determinar o schema\n",
    "\n",
    "# declarando o schema\n",
    "schema_estabelecimentos = StructType([\n",
    "        StructField('cnpj_basico',StringType(),True),\n",
    "        StructField('cnpj_ordem',StringType(),True),\n",
    "        StructField('cnpj_dv',StringType(),True),\n",
    "        StructField('identificador_matriz_filial',StringType(),True),\n",
    "        StructField('nome_fantasia',StringType(),True),\n",
    "        StructField('situacao_cadastral',StringType(),True),\n",
    "        StructField('data_situacao_cadastral',StringType(),True),\n",
    "        StructField('motivo_situacao_cadastral',StringType(),True),\n",
    "        StructField('nome_da_cidade_no_exterior',StringType(),True),\n",
    "        StructField('pais',StringType(),True),\n",
    "        StructField('data_inicio_atividade',StringType(),True),\n",
    "        StructField('cnae_fiscal_principal',StringType(),True),\n",
    "        StructField('cnae_fiscal_secundaria',StringType(),True),\n",
    "        StructField('tipo_logradouro',StringType(),True),\n",
    "        StructField('logradouro',StringType(),True),\n",
    "        StructField('numero',StringType(),True),\n",
    "        StructField('complemento',StringType(),True),\n",
    "        StructField('bairro',StringType(),True),\n",
    "        StructField('cep',StringType(),True),\n",
    "        StructField('uf',StringType(),True),\n",
    "        StructField('municipio',StringType(),True),\n",
    "        StructField('ddd_1',StringType(),True),\n",
    "        StructField('telefone_1',StringType(),True),\n",
    "        StructField('ddd_2',StringType(),True),\n",
    "        StructField('telefone_2',StringType(),True),\n",
    "        StructField('ddd_fax',StringType(),True),\n",
    "        StructField('fax',StringType(),True),\n",
    "        StructField('correio_eletronico',StringType(),True),\n",
    "        StructField('situacao_especial',StringType(),True),\n",
    "        StructField('data_situacao_especial',StringType(),True)\n",
    "        ])\n",
    "\n",
    "path = os.getcwd() # identifica o diretório em que está sendo executado\n",
    "\n",
    "# processando os arquivos\n",
    "leitor.processamento_sql_spark(\n",
    "    pasta_de_consultas=path+'/consultas/', \n",
    "    destino=path+'/arquivos_processados/', \n",
    "    diretorio=path+'/arquivos/unzipped/',\n",
    "    separador=';',\n",
    "    schema=schema_estabelecimentos,\n",
    "    sql_alias='estabelecimentos')\n"
   ]
  },
  {
   "cell_type": "code",
   "execution_count": null,
   "metadata": {},
   "outputs": [],
   "source": []
  }
 ]
}